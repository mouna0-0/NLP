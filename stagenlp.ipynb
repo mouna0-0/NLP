{
 "cells": [
  {
   "cell_type": "code",
   "execution_count": 1,
   "id": "e8c21c3c",
   "metadata": {},
   "outputs": [],
   "source": [
    "#pip install textlob-fr\n",
    "#pip install pyspellchecker"
   ]
  },
  {
   "cell_type": "code",
   "execution_count": 2,
   "id": "7b49dc1b",
   "metadata": {},
   "outputs": [],
   "source": [
    "#Importing libraries\n",
    "import os\n",
    "import sys\n",
    "import unicodedata\n",
    "import pandas as pd\n",
    "import re \n",
    "import nltk\n",
    "import sklearn\n",
    "from textblob_fr.fr import Spelling       \n",
    "from sklearn.feature_extraction.text import TfidfVectorizer\n",
    "import matplotlib.pyplot as plt\n",
    "from wordcloud import WordCloud\n",
    "import numpy as np\n",
    "from spellchecker import SpellChecker\n",
    "from langdetect import detect, DetectorFactory\n",
    "from deep_translator import GoogleTranslator\n",
    "DetectorFactory.seed = 0"
   ]
  },
  {
   "cell_type": "code",
   "execution_count": 3,
   "id": "b6563611",
   "metadata": {},
   "outputs": [],
   "source": [
    "\n",
    "\n",
    "def find_files(filename, search_path):\n",
    "    result = []\n",
    "    # Wlaking top-down from the root\n",
    "    for root, dir, files in os.walk(search_path):\n",
    "        if filename in files:\n",
    "            result.append(os.path.join(root, filename))\n",
    "    return result\n",
    "fi=sys.argv[1]\n",
    "if len(fi.split('.'))==2:\n",
    "    fi=find_files(sys.argv[1],\"C:\\\\\")[0]\n",
    "datafi=find_files(sys.argv[2],\"C:\\\\\")[0]"
   ]
  },
  {
   "cell_type": "code",
   "execution_count": 4,
   "id": "5c689463",
   "metadata": {},
   "outputs": [],
   "source": []
  },
  {
   "cell_type": "code",
   "execution_count": 5,
   "id": "94be554d",
   "metadata": {},
   "outputs": [
    {
     "data": {
      "text/html": [
       "<div>\n",
       "<style scoped>\n",
       "    .dataframe tbody tr th:only-of-type {\n",
       "        vertical-align: middle;\n",
       "    }\n",
       "\n",
       "    .dataframe tbody tr th {\n",
       "        vertical-align: top;\n",
       "    }\n",
       "\n",
       "    .dataframe thead th {\n",
       "        text-align: right;\n",
       "    }\n",
       "</style>\n",
       "<table border=\"1\" class=\"dataframe\">\n",
       "  <thead>\n",
       "    <tr style=\"text-align: right;\">\n",
       "      <th></th>\n",
       "      <th>Nature marchandise</th>\n",
       "    </tr>\n",
       "  </thead>\n",
       "  <tbody>\n",
       "    <tr>\n",
       "      <th>0</th>\n",
       "      <td>tomato</td>\n",
       "    </tr>\n",
       "  </tbody>\n",
       "</table>\n",
       "</div>"
      ],
      "text/plain": [
       "  Nature marchandise\n",
       "0             tomato"
      ]
     },
     "execution_count": 5,
     "metadata": {},
     "output_type": "execute_result"
    }
   ],
   "source": [
    "if len(fi.split('.'))==2:\n",
    "    df=pd.read_csv(fi,sep=';',names=['id','Nature marchandise'],encoding='ISO-8859-15')\n",
    "    df.drop(df.index[0],0,inplace=True)\n",
    "    df.drop(['id'],axis=1,inplace=True)\n",
    "else:\n",
    "    df=pd.DataFrame(data={'Nature marchandise':[fi]})\n",
    "df"
   ]
  },
  {
   "cell_type": "code",
   "execution_count": 6,
   "id": "2a4e8d7e",
   "metadata": {},
   "outputs": [
    {
     "data": {
      "text/plain": [
       "Nature marchandise    object\n",
       "dtype: object"
      ]
     },
     "execution_count": 6,
     "metadata": {},
     "output_type": "execute_result"
    }
   ],
   "source": [
    "df.dtypes"
   ]
  },
  {
   "cell_type": "code",
   "execution_count": 7,
   "id": "93008cf1",
   "metadata": {},
   "outputs": [
    {
     "data": {
      "text/plain": [
       "Nature marchandise    0\n",
       "dtype: int64"
      ]
     },
     "execution_count": 7,
     "metadata": {},
     "output_type": "execute_result"
    }
   ],
   "source": [
    "df.isna().sum()"
   ]
  },
  {
   "cell_type": "code",
   "execution_count": 8,
   "id": "3e1875de",
   "metadata": {},
   "outputs": [],
   "source": [
    "df=df.dropna()"
   ]
  },
  {
   "cell_type": "code",
   "execution_count": 9,
   "id": "b5f0f89f",
   "metadata": {},
   "outputs": [],
   "source": [
    "df['Nature marchandise corr']=df['Nature marchandise']"
   ]
  },
  {
   "cell_type": "code",
   "execution_count": 10,
   "id": "4a066cde",
   "metadata": {},
   "outputs": [
    {
     "data": {
      "text/plain": [
       "1"
      ]
     },
     "execution_count": 10,
     "metadata": {},
     "output_type": "execute_result"
    }
   ],
   "source": [
    "df['Nature marchandise'].nunique()"
   ]
  },
  {
   "cell_type": "code",
   "execution_count": 11,
   "id": "f422f523",
   "metadata": {},
   "outputs": [
    {
     "data": {
      "text/plain": [
       "tomato    1\n",
       "Name: Nature marchandise, dtype: int64"
      ]
     },
     "execution_count": 11,
     "metadata": {},
     "output_type": "execute_result"
    }
   ],
   "source": [
    "df['Nature marchandise'].value_counts()"
   ]
  },
  {
   "cell_type": "code",
   "execution_count": 12,
   "id": "e3970745",
   "metadata": {},
   "outputs": [
    {
     "name": "stdout",
     "output_type": "stream",
     "text": [
      "le nombre de lignes contenant plus qu'un mot est :  0\n"
     ]
    }
   ],
   "source": [
    "print(\"le nombre de lignes contenant plus qu'un mot est : \",df[df['Nature marchandise'].str.contains(' ')].count()[0])"
   ]
  },
  {
   "cell_type": "code",
   "execution_count": 13,
   "id": "698a6e65",
   "metadata": {},
   "outputs": [
    {
     "name": "stdout",
     "output_type": "stream",
     "text": [
      "vide :  0\n",
      "vides :  0\n"
     ]
    }
   ],
   "source": [
    "print('vide : ',df[df['Nature marchandise']=='vide'].count()[0])\n",
    "print('vides : ',df[df['Nature marchandise']=='vides'].count()[0])"
   ]
  },
  {
   "cell_type": "code",
   "execution_count": 14,
   "id": "ef749802",
   "metadata": {},
   "outputs": [
    {
     "name": "stdout",
     "output_type": "stream",
     "text": [
      "diver :  0\n",
      "divers :  0\n"
     ]
    }
   ],
   "source": [
    "print('diver : ',df[df['Nature marchandise']=='diver'].count()[0])\n",
    "print('divers : ',df[df['Nature marchandise']=='divers'].count()[0])"
   ]
  },
  {
   "cell_type": "code",
   "execution_count": 15,
   "id": "6eb1af55",
   "metadata": {},
   "outputs": [],
   "source": [
    "def wordCloud(data, max_words):\n",
    "    cloud = WordCloud(max_words=max_words, background_color=\"white\", width=1600, height=800,collocations=False).generate(\" \".join(data))\n",
    "    plt.figure(figsize=(20, 20))\n",
    "    plt.imshow(cloud)"
   ]
  },
  {
   "cell_type": "code",
   "execution_count": 16,
   "id": "b4d102d5",
   "metadata": {},
   "outputs": [
    {
     "data": {
      "image/png": "[encoded data removed]",
      "text/plain": [
       "<Figure size 1440x1440 with 1 Axes>"
      ]
     },
     "metadata": {
      "needs_background": "light"
     },
     "output_type": "display_data"
    }
   ],
   "source": [
    "wordCloud(df['Nature marchandise'],200)"
   ]
  },
  {
   "cell_type": "code",
   "execution_count": 17,
   "id": "dde5095f",
   "metadata": {},
   "outputs": [],
   "source": [
    "#from sklearn.feature_extraction.text import CountVectorizer\n",
    "#corpus=df[\"Nature marchandise\"]\n",
    "#count_vector = CountVectorizer() "
   ]
  },
  {
   "cell_type": "code",
   "execution_count": 18,
   "id": "711d0258",
   "metadata": {},
   "outputs": [],
   "source": [
    "#X = count_vector.fit_transform(corpus).toarray()\n",
    "#X"
   ]
  },
  {
   "cell_type": "code",
   "execution_count": 19,
   "id": "a5f3451e",
   "metadata": {
    "scrolled": true
   },
   "outputs": [],
   "source": [
    "#frequency_matrix = pd.DataFrame(X,columns=count_vector.get_feature_names())\n",
    "#frequency_matrix"
   ]
  },
  {
   "cell_type": "code",
   "execution_count": 20,
   "id": "7a925666",
   "metadata": {},
   "outputs": [],
   "source": [
    "#frequency of the terms\n",
    "#freq_mots = np.sum(X,axis=0)\n",
    "#print(freq_mots)\n",
    "#print('****')\n",
    "#argmax\n",
    "#index = np.argsort(freq_mots)\n",
    "#print(index)\n",
    "#print('****')\n",
    "#print the terms and their frequency\n",
    "#imp = {'terme':np.asarray(count_vector.get_feature_names())[index],'freq':freq_mots[index]}\n",
    "#print(pd.DataFrame(imp).sort_values(by='freq', ascending=False))"
   ]
  },
  {
   "cell_type": "code",
   "execution_count": 21,
   "id": "b5472f86",
   "metadata": {},
   "outputs": [],
   "source": [
    "df['Nature marchandise corr']=df['Nature marchandise corr'].str.lower()"
   ]
  },
  {
   "cell_type": "code",
   "execution_count": 22,
   "id": "f84863d4",
   "metadata": {},
   "outputs": [],
   "source": [
    "df['Nature marchandise corr'].replace(regex={\"âš\":\"\",\"âž\":\"'\",\"`\":\"'\",'ââ\\x80â\\x99':\"'\",'ã£â\\x96':'o','ã£â\\x89':'é','ã£â\\x8b':'é','ã£âa':'','ã£â\\x89':'m','ã£âe':'m','ã£âª':'ê','ã£â\\x8d':'i','ã£â\\x80':'à','ã£â\\x8f':'ï','ã£â\\x9b':'e','ã£â\\x88':'è','ã£â\\x9c':'u','ã£â§':'ç','\\bã£\\b':'à','Ã£Â¹':'e','ã£â\\x82':'â','ã£â\\x93':'ó','ã£â\\x8e':'i','ã£â\\x91':'in','ã£â\\x84':'e','ã£â\\x81':'a','ã¢â�â�':\"'\",'�':'e','¹':'','ã©':'é','ã¨':'è','ã¢':'â','#xd':'','\\+':' ','\\d+':'','//':'/','///':'/','\\/':' ','\\.':'','\\:':' ','\\-':' ','ã�':'é','\\;':' ','\\(':' ','\\)':'','\\,':' ','\\[':'','\\]':'','\\%':'','\\?':'','\\*':'','â°':'','ââ\\x80â\\x99':\"'\",'ââ\\x80â\\x8b':'','ã¥â\\x92':'œ','=':''},inplace=True)"
   ]
  },
  {
   "cell_type": "code",
   "execution_count": 23,
   "id": "f2534738",
   "metadata": {},
   "outputs": [],
   "source": [
    "def search_words(text):\n",
    "    result = re.findall(r'\\b[^\\d\\W]+\\b', text)\n",
    "    return \" \".join(result)\n",
    "\n",
    "df['Nature marchandise corr']=df['Nature marchandise corr'].apply(lambda x : search_words(x))"
   ]
  },
  {
   "cell_type": "code",
   "execution_count": 24,
   "id": "4d79dbc2",
   "metadata": {},
   "outputs": [],
   "source": [
    "def split_str_from_words(l, s):\n",
    "    l=sorted(l, reverse=True, key=lambda el: len(el))\n",
    "    m = re.split(rf\"({'|'.join(l)})\", s)\n",
    "    return [i for i in m if i]"
   ]
  },
  {
   "cell_type": "code",
   "execution_count": 25,
   "id": "c487bf21",
   "metadata": {},
   "outputs": [],
   "source": [
    "spell = SpellChecker(language='fr')\n",
    "spell.word_frequency.load_text_file(datafi)"
   ]
  },
  {
   "cell_type": "code",
   "execution_count": 26,
   "id": "3faefb95",
   "metadata": {},
   "outputs": [],
   "source": [
    "#dealing with long rattached terms\n",
    "long=set(df['Nature marchandise corr'].str.findall(r'([a-z]{14,})').sum())\n",
    "f=open(datafi,'r',encoding='utf-8-sig')\n",
    "s=f.read()\n",
    "f.close()\n",
    "l=re.split(' |\\n',s)\n",
    "l1=list(spell.word_frequency.dictionary.keys())\n",
    "l=list(set(l+l1))\n",
    "l=[x for x in l if len(x)>=6]\n",
    "longcor=[]\n",
    "for x in long:\n",
    "    longcor.append(' '.join(split_str_from_words(l,x)))"
   ]
  },
  {
   "cell_type": "code",
   "execution_count": 27,
   "id": "e17b16e1",
   "metadata": {},
   "outputs": [],
   "source": [
    "long=[r'\\b'+x+r'\\b' for x in long]"
   ]
  },
  {
   "cell_type": "code",
   "execution_count": 28,
   "id": "754a804f",
   "metadata": {},
   "outputs": [],
   "source": [
    "df['Nature marchandise corr'].replace(long,longcor,regex=True,inplace=True)"
   ]
  },
  {
   "cell_type": "code",
   "execution_count": 29,
   "id": "df1368e4",
   "metadata": {},
   "outputs": [],
   "source": [
    "df['Nature marchandise corr'].replace(r'(\\bart[^(on)i]\\B)','article ',regex=True,inplace=True)"
   ]
  },
  {
   "cell_type": "code",
   "execution_count": 30,
   "id": "fd5ab4b2",
   "metadata": {},
   "outputs": [],
   "source": [
    "df['Nature marchandise corr'].replace(r\"\\b[a-z]\\s+\",'',regex=True,inplace=True)\n",
    "df['Nature marchandise corr'].replace(r'\\b[a-z]{2}\\b','',regex=True,inplace=True)"
   ]
  },
  {
   "cell_type": "code",
   "execution_count": 31,
   "id": "b5ce711e",
   "metadata": {},
   "outputs": [],
   "source": [
    "df['Nature marchandise corr']=df['Nature marchandise corr'].str.lower()\n",
    "df['Nature marchandise corr']=df['Nature marchandise corr'].str.strip()\n",
    "df['Nature marchandise corr'].replace('\\bdiver\\b','divers',regex=True,inplace=True)\n",
    "df['Nature marchandise corr'].replace(r'\\bvides\\b','vide',regex=True,inplace=True)\n",
    "df['Nature marchandise corr'].replace(r'\\bacc\\b','accessoires',regex=True,inplace=True)\n",
    "df['Nature marchandise corr'].replace(r'\\bauto\\b','automobile',regex=True,inplace=True)"
   ]
  },
  {
   "cell_type": "code",
   "execution_count": 32,
   "id": "3d7c791f",
   "metadata": {},
   "outputs": [],
   "source": [
    "#li=list(zip(count_vector.get_feature_names(),list(freq_mots)))\n",
    "#dffreq=pd.DataFrame(li,columns=['terme', 'freq'])\n",
    "#dffreq.to_csv('fffreq.txt',index=False)"
   ]
  },
  {
   "cell_type": "markdown",
   "id": "7a1f49d3",
   "metadata": {},
   "source": [
    "### Spacy"
   ]
  },
  {
   "cell_type": "code",
   "execution_count": 33,
   "id": "c233b245",
   "metadata": {},
   "outputs": [
    {
     "data": {
      "text/plain": [
       "'from spacy_langdetect import LanguageDetector\\nfrom spacy.language import Language\\nimport spacy\\nnlp = spacy.load(\"en_core_web_sm\")  \\n\\n@Language.factory(\\'language_detector\\')\\ndef language_detector(nlp, name):\\n    return LanguageDetector()\\n\\nnlp.add_pipe(\\'language_detector\\', last=True)\\n'"
      ]
     },
     "execution_count": 33,
     "metadata": {},
     "output_type": "execute_result"
    }
   ],
   "source": [
    "'''from spacy_langdetect import LanguageDetector\n",
    "from spacy.language import Language\n",
    "import spacy\n",
    "nlp = spacy.load(\"en_core_web_sm\")  \n",
    "\n",
    "@Language.factory('language_detector')\n",
    "def language_detector(nlp, name):\n",
    "    return LanguageDetector()\n",
    "\n",
    "nlp.add_pipe('language_detector', last=True)\n",
    "'''"
   ]
  },
  {
   "cell_type": "code",
   "execution_count": 34,
   "id": "4504fa04",
   "metadata": {},
   "outputs": [],
   "source": [
    "#word=nlp('hello')\n",
    "#detect_language = word._.language\n",
    "#print(detect_language)"
   ]
  },
  {
   "cell_type": "markdown",
   "id": "3f0273ad",
   "metadata": {},
   "source": [
    "### Autocorrect"
   ]
  },
  {
   "cell_type": "code",
   "execution_count": 35,
   "id": "84f94c1f",
   "metadata": {},
   "outputs": [],
   "source": [
    "#from autocorrect import Speller \n",
    "#lil=\" \".join(list(df['Nature marchandise corr'])[:200])\n",
    "#spellerfrench=Speller(lang='fr')\n",
    "#Corrected_ = spellerfrench(lil)\n"
   ]
  },
  {
   "cell_type": "code",
   "execution_count": 36,
   "id": "1e7427ea",
   "metadata": {},
   "outputs": [],
   "source": [
    "#Corrected_"
   ]
  },
  {
   "cell_type": "markdown",
   "id": "fa985335",
   "metadata": {},
   "source": [
    "### textblob"
   ]
  },
  {
   "cell_type": "code",
   "execution_count": 37,
   "id": "ac9431b2",
   "metadata": {},
   "outputs": [],
   "source": [
    "def sumlists(l):\n",
    "    L=[]\n",
    "    for i in range(len(l)):\n",
    "        L+=l.iloc[i]\n",
    "    return(L)"
   ]
  },
  {
   "cell_type": "code",
   "execution_count": 38,
   "id": "a092a8d7",
   "metadata": {
    "scrolled": false
   },
   "outputs": [],
   "source": [
    "lili=sumlists(df['Nature marchandise corr'].str.split())\n",
    "#lili"
   ]
  },
  {
   "cell_type": "code",
   "execution_count": 39,
   "id": "8b539fae",
   "metadata": {},
   "outputs": [],
   "source": [
    "from textblob import TextBlob"
   ]
  },
  {
   "cell_type": "code",
   "execution_count": 40,
   "id": "f3faae33",
   "metadata": {},
   "outputs": [],
   "source": [
    "from textblob_fr.fr import Spelling       \n",
    "import re\n",
    "\n",
    "textToLower = \"\"\n",
    "\n",
    "f1=open(datafi,\"r\",encoding='utf-8-sig')               # Opening our source file\n",
    "text = f1.read()                                  # Reading the file                 \n",
    "textToLower = text.lower()                        # Lowering all the capital letters\n",
    "\n",
    "words = re.findall(r'\\b[^\\d\\W]+\\b', textToLower)           # Finding all the words and place them into a list    \n",
    "oneString = \" \".join(words)                           # Joining them into one string\n",
    "\n",
    "pathToFile = \"train.txt\"                              # The path we want to store our stats file at\n",
    "spelling = Spelling(path = pathToFile)                # Connect the path to the Spelling object\n",
    "spelling.train(oneString, pathToFile)                 # Train"
   ]
  },
  {
   "cell_type": "markdown",
   "id": "f3609e86",
   "metadata": {},
   "source": [
    "### correction esp and eng "
   ]
  },
  {
   "cell_type": "code",
   "execution_count": 41,
   "id": "7a286658",
   "metadata": {},
   "outputs": [],
   "source": [
    "#extract all words that ends with 'o' or 'os'\n",
    "os=set(re.findall(r'[a-zA-Z]+os?\\b',' '.join(lili)))\n",
    "#extract all words that ends with 'a' or 'as'\n",
    "aas=set(re.findall(r'[a-zA-Z]+as?\\b',' '.join(lili)))\n",
    "#extract all words that ends with 'dor'\n",
    "dor=set(re.findall(r'[a-zA-Z]+dor?\\b',' '.join(lili)))\n",
    "#extract all words that ends with 'ito'\n",
    "ito=set(re.findall(r'[a-zA-Z]+itos?\\b',' '.join(lili)))\n",
    "#extract all words that ends with 'ita'\n",
    "ita=set(re.findall(r'[a-zA-Z]+itas?\\b',' '.join(lili)))"
   ]
  },
  {
   "cell_type": "code",
   "execution_count": 42,
   "id": "f2b27d90",
   "metadata": {},
   "outputs": [],
   "source": [
    "esp=os.union(aas,dor,ito,ita)"
   ]
  },
  {
   "cell_type": "code",
   "execution_count": 43,
   "id": "3008c588",
   "metadata": {},
   "outputs": [],
   "source": [
    "ing=set(re.findall(r'[a-zA-Z]+ing\\b',' '.join(lili)))\n",
    "y=set(re.findall(r'[a-zA-Z]+y\\b',' '.join(lili)))\n",
    "ic=set(re.findall(r'[a-zA-Z]+ic\\b',' '.join(lili)))"
   ]
  },
  {
   "cell_type": "code",
   "execution_count": 44,
   "id": "6a2acd09",
   "metadata": {},
   "outputs": [],
   "source": [
    "eng=ing.union(y,ic)"
   ]
  },
  {
   "cell_type": "code",
   "execution_count": 45,
   "id": "1557b191",
   "metadata": {},
   "outputs": [],
   "source": [
    "spell = SpellChecker(language='fr')\n",
    "spell.word_frequency.load_text_file(datafi)\n",
    "misspelled = spell.unknown(lili)\n",
    "short=[r'\\b'+x+r'\\b' for x in misspelled if len(x)<=3]\n",
    "misspelled=[x for x in misspelled if len(x)>3]\n",
    "es=[]\n",
    "fr=[]\n",
    "other=[]\n",
    "if misspelled:\n",
    "    for word in misspelled:\n",
    "        if detect(word) in ['es','pt']:\n",
    "            es.append(word)\n",
    "        elif (word not in esp) and (word not in eng):\n",
    "            fr.append(word)"
   ]
  },
  {
   "cell_type": "code",
   "execution_count": 46,
   "id": "abad14fa",
   "metadata": {},
   "outputs": [],
   "source": [
    "df['Nature marchandise corr'].replace(short,'',regex=True,inplace=True)"
   ]
  },
  {
   "cell_type": "code",
   "execution_count": 47,
   "id": "8e67aff5",
   "metadata": {},
   "outputs": [],
   "source": [
    "fr=set(fr)\n",
    "es=set(es)"
   ]
  },
  {
   "cell_type": "code",
   "execution_count": 48,
   "id": "32fd53ab",
   "metadata": {},
   "outputs": [
    {
     "name": "stdout",
     "output_type": "stream",
     "text": [
      "Non reconnus fr 0\n",
      "Non reconnus es 0\n"
     ]
    }
   ],
   "source": [
    "print('Non reconnus fr',len(fr))\n",
    "print('Non reconnus es',len(es))"
   ]
  },
  {
   "cell_type": "code",
   "execution_count": 49,
   "id": "bb5c40e3",
   "metadata": {},
   "outputs": [],
   "source": [
    "espagnol=set(es).union(esp)"
   ]
  },
  {
   "cell_type": "code",
   "execution_count": 50,
   "id": "854c7c03",
   "metadata": {},
   "outputs": [],
   "source": [
    "espagnol=list(espagnol)"
   ]
  },
  {
   "cell_type": "code",
   "execution_count": 51,
   "id": "0142ef3c",
   "metadata": {},
   "outputs": [],
   "source": [
    "speller = SpellChecker(language='es')\n",
    "speller.word_frequency.load_text_file(datafi)\n",
    "misspes=speller.unknown(espagnol)\n",
    "for word in misspes:\n",
    "     espagnol[espagnol.index(word)]=speller.correction(word)"
   ]
  },
  {
   "cell_type": "code",
   "execution_count": 52,
   "id": "d82a706c",
   "metadata": {
    "scrolled": false
   },
   "outputs": [],
   "source": [
    "if espagnol:\n",
    "    esptrad=GoogleTranslator(source='es', target='fr').translate_batch(espagnol)"
   ]
  },
  {
   "cell_type": "code",
   "execution_count": 53,
   "id": "abb7b293",
   "metadata": {},
   "outputs": [],
   "source": [
    "if espagnol:\n",
    "    espfr=list(zip(espagnol,esptrad))"
   ]
  },
  {
   "cell_type": "code",
   "execution_count": 54,
   "id": "81341754",
   "metadata": {},
   "outputs": [],
   "source": [
    "espagnol=[r'\\b'+x+r'\\b' for x in espagnol]"
   ]
  },
  {
   "cell_type": "code",
   "execution_count": 55,
   "id": "d339cb2e",
   "metadata": {},
   "outputs": [],
   "source": [
    "if espagnol:\n",
    "    df['Nature marchandise corr'].replace(espagnol,esptrad,regex=True,inplace=True)"
   ]
  },
  {
   "cell_type": "code",
   "execution_count": 56,
   "id": "a6c0815e",
   "metadata": {},
   "outputs": [],
   "source": [
    "df['Nature marchandise corr']=df['Nature marchandise corr'].str.lower()"
   ]
  },
  {
   "cell_type": "code",
   "execution_count": 57,
   "id": "7307ce7a",
   "metadata": {},
   "outputs": [],
   "source": [
    "if eng:\n",
    "    engtrad=GoogleTranslator(source='en', target='fr').translate_batch(eng)"
   ]
  },
  {
   "cell_type": "code",
   "execution_count": 58,
   "id": "1a5e3bc2",
   "metadata": {},
   "outputs": [],
   "source": [
    "eng=[r'\\b'+x+r'\\b' for x in eng]"
   ]
  },
  {
   "cell_type": "code",
   "execution_count": 59,
   "id": "876e82b4",
   "metadata": {},
   "outputs": [],
   "source": [
    "if eng:\n",
    "    df['Nature marchandise corr'].replace(eng,engtrad,regex=True,inplace=True)"
   ]
  },
  {
   "cell_type": "code",
   "execution_count": 60,
   "id": "24d01a5d",
   "metadata": {},
   "outputs": [
    {
     "name": "stdout",
     "output_type": "stream",
     "text": [
      "correction french\n"
     ]
    }
   ],
   "source": [
    "print('correction french')"
   ]
  },
  {
   "cell_type": "markdown",
   "id": "14ca1029",
   "metadata": {},
   "source": [
    "## correction fr"
   ]
  },
  {
   "cell_type": "markdown",
   "id": "2a663f1e",
   "metadata": {},
   "source": [
    "### Phonex"
   ]
  },
  {
   "cell_type": "code",
   "execution_count": 61,
   "id": "b82a8444",
   "metadata": {},
   "outputs": [],
   "source": [
    "def remove_accents(input_str):\n",
    "    \"\"\"\n",
    "    >>> remove_accents(\"héhé\")\n",
    "    \"hehe\n",
    "    \"\"\"\n",
    "    nfkd_form = unicodedata.normalize('NFKD', input_str)\n",
    "    only_ascii = nfkd_form.encode('ASCII', 'ignore')\n",
    "    return only_ascii.decode(\"utf8\")\n",
    "\n",
    "def phonex(chaine):\n",
    "    \"\"\"Phonex est un algorithme de Soundex plus perfectionné encore que la version francisée de Soundex2.\n",
    "    Sachez que Phonex est optimisée pour le langage français, sait reconnaître différents types de sons comme les sons\n",
    "    ‘on’, ‘ai’, ‘ein’, etc...\n",
    "    et place son résultat sous la forme d’un réel de type double précision (5.0 x 10-324 .. 1.7 x\n",
    "    10308 sur 15 à 16 chiffres significatifs). Son temps de calcul est double de Soundex et 30% supérieure seulement\n",
    "    à Soundex2.\n",
    "    >>> phonex(\"PHYLAURHEIMSMET\")\n",
    "    0.29241361598339205\n",
    "    :param chaine: La chaine de caractères à encoder\n",
    "    :return: L'encodage sous forme de nombre à virgule flottante\n",
    "    \"\"\"\n",
    "    # 0 On met la chaîne en majuscules, on vire les caractères parasites\n",
    "    chaine = remove_accents(chaine)\n",
    "    chaine = re.sub(r\"[ \\(\\)\\-.+*/,:;_']\", \"\", chaine)\n",
    "    chaine = chaine.upper()\n",
    "\n",
    "    # 1 remplacer les y par des i\n",
    "    r = chaine.replace('Y', 'I')\n",
    "\n",
    "    # 2 supprimer les h qui ne sont pas précédées de c ou de s ou de p\n",
    "    r = re.sub(r'([^PCS])H', r'\\1', r)\n",
    "\n",
    "    # 3 remplacement du ph par f\n",
    "    r = r.replace(r'PH', r'F')\n",
    "\n",
    "    # 4 remplacer les groupes de lettres suivantes :\n",
    "    r = re.sub(r'G(AI?[NM])', r'K\\1', r)\n",
    "\n",
    "    # 5 remplacer les occurrences suivantes, si elles sont suivies par une lettre a, e, i, o, ou u :\n",
    "    r = re.sub(r'[AE]I[NM]([AEIOU])', r'YN\\1', r)\n",
    "\n",
    "    # 6 remplacement de groupes de 3 lettres (sons 'o', 'oua', 'ein') :\n",
    "    r = r.replace('EAU', 'O')\n",
    "    r = r.replace('OUA', '2')\n",
    "    r = r.replace('EIN', '4')\n",
    "    r = r.replace('AIN', '4')\n",
    "    r = r.replace('EIM', '4')\n",
    "    r = r.replace('AIM', '4')\n",
    "\n",
    "    # 7 remplacement du son É:\n",
    "    r = r.replace('É', 'Y')  # CP : déjà fait en étape 0\n",
    "    r = r.replace('È', 'Y')  # CP : déjà fait en étape 0\n",
    "    r = r.replace('Ê', 'Y')  # CP : déjà fait en étape 0\n",
    "    r = r.replace('AI', 'Y')\n",
    "    r = r.replace('EI', 'Y')\n",
    "    r = r.replace('ER', 'YR')\n",
    "    r = r.replace('ESS', 'YS')\n",
    "    r = r.replace('ET', 'YT')  # CP : différence entre la version Delphi et l'algo\n",
    "    r = r.replace('EZ', 'YZ')\n",
    "\n",
    "    # 8 remplacer les groupes de 2 lettres suivantes (son â..anâ.. et â..inâ..), sauf sâ..il sont suivi par une\n",
    "    # lettre a, e, i o, u ou un son 1 Ã  4 :\n",
    "    r = re.sub(r'AN([^AEIOU1234])', r'1\\1', r)\n",
    "    r = re.sub(r'ON([^AEIOU1234])', r'1\\1', r)\n",
    "    r = re.sub(r'AM([^AEIOU1234])', r'1\\1', r)\n",
    "    r = re.sub(r'EN([^AEIOU1234])', r'1\\1', r)\n",
    "    r = re.sub(r'EM([^AEIOU1234])', r'1\\1', r)\n",
    "    r = re.sub(r'IN([^AEIOU1234])', r'4\\1', r)\n",
    "\n",
    "    # 9 remplacer les s par des z sâ..ils sont suivi et précédés des lettres a, e, i, o,u ou dâ..un son 1 Ã  4\n",
    "    r = re.sub(r'([AEIOUY1234])S([AEIOUY1234])', r'\\1Z\\2', r)\n",
    "    # CP : ajout du Y Ã  la liste\n",
    "\n",
    "    # 10 remplacer les groupes de 2 lettres suivants :\n",
    "    r = r.replace('OE', 'E')\n",
    "    r = r.replace('EU', 'E')\n",
    "    r = r.replace('AU', 'O')\n",
    "    r = r.replace('OI', '2')\n",
    "    r = r.replace('OY', '2')\n",
    "    r = r.replace('OU', '3')\n",
    "\n",
    "    # 11 remplacer les groupes de lettres suivants\n",
    "    r = r.replace('CH', '5')\n",
    "    r = r.replace('SCH', '5')\n",
    "    r = r.replace('SH', '5')\n",
    "    r = r.replace('SS', 'S')\n",
    "    r = r.replace('SC', 'S')  # CP : problème pour PASCAL, mais pas pour PISCINE ?\n",
    "\n",
    "    # 12 remplacer le c par un s s'il est suivi d'un e ou d'un i\n",
    "    # CP : à mon avis, il faut inverser 11 et 12 et ne pas faire la dernière ligne du 11\n",
    "    r = re.sub(r'C([EI])', r'S\\1', r)\n",
    "\n",
    "    # 13 remplacer les lettres ou groupe de lettres suivants :\n",
    "    r = r.replace('C', 'K')\n",
    "    r = r.replace('Q', 'K')\n",
    "    r = r.replace('QU', 'K')\n",
    "    r = r.replace('GU', 'K')\n",
    "    r = r.replace('GA', 'KA')\n",
    "    r = r.replace('GO', 'KO')\n",
    "    r = r.replace('GY', 'KY')\n",
    "\n",
    "    # 14 remplacer les lettres suivante :\n",
    "    r = r.replace('A', 'O')\n",
    "    r = r.replace('D', 'T')\n",
    "    r = r.replace('P', 'T')\n",
    "    r = r.replace('J', 'G')\n",
    "    r = r.replace('B', 'F')\n",
    "    r = r.replace('V', 'F')\n",
    "    r = r.replace('M', 'N')\n",
    "\n",
    "    # 15 Supprimer les lettres dupliquées\n",
    "    oldc = '#'\n",
    "    newr = ''\n",
    "    for c in r:\n",
    "        if oldc != c: newr = newr + c\n",
    "        oldc = c\n",
    "    r = newr\n",
    "\n",
    "    # 16 Supprimer les terminaisons suivantes : t, x\n",
    "    r = re.sub(r'(.*)[TX]$', r'\\1', r)\n",
    "\n",
    "    # 17 Affecter à chaque lettre le code numérique correspondant en partant de la dernière lettre\n",
    "    num = ['1', '2', '3', '4', '5', 'E', 'F', 'G', 'H', 'I', 'K', 'L', 'N', 'O', 'R', 'S', 'T', 'U', 'W', 'X', 'Y', 'Z']\n",
    "    l = []\n",
    "    for c in r:\n",
    "        l.append(num.index(c))\n",
    "\n",
    "    # 18 Convertissez les codes numériques ainsi obtenu en un nombre de base 22 exprimé en virgule flottante.\n",
    "    res = 0.\n",
    "    i = 1\n",
    "    for n in l:\n",
    "        res = n * 22 ** -i + res\n",
    "        i = i + 1\n",
    "\n",
    "    return res"
   ]
  },
  {
   "cell_type": "code",
   "execution_count": 62,
   "id": "c724a079",
   "metadata": {},
   "outputs": [],
   "source": [
    "f=open(datafi,'r',encoding='utf-8-sig')\n",
    "s=f.read()\n",
    "f.close()\n",
    "l=set(re.split(' |\\t|\\n',s))\n",
    "l=[x for x in l if len(x)>=4]\n",
    "p=[phonex(x)*10**14//10 for x in l]\n"
   ]
  },
  {
   "cell_type": "code",
   "execution_count": 63,
   "id": "cacc2860",
   "metadata": {},
   "outputs": [],
   "source": [
    "lphonex=dict(zip(l,p))"
   ]
  },
  {
   "cell_type": "code",
   "execution_count": 64,
   "id": "c75aeae0",
   "metadata": {},
   "outputs": [],
   "source": [
    "#pipeline\n",
    "\n",
    "corrected=[]\n",
    "for x in fr:\n",
    "    a=0\n",
    "    for key, value in lphonex.items():\n",
    "        if value == phonex(x)*10**14//10:\n",
    "            corrected.append(key)\n",
    "            a=1\n",
    "            break\n",
    "    if a==0:\n",
    "        corrected.append(x)\n",
    "    "
   ]
  },
  {
   "cell_type": "code",
   "execution_count": 65,
   "id": "95df9541",
   "metadata": {},
   "outputs": [],
   "source": [
    "misspelled1 = spell.unknown(corrected)\n",
    "for word in misspelled1:\n",
    "    corrected[corrected.index(word)]=spell.correction(word)"
   ]
  },
  {
   "cell_type": "code",
   "execution_count": 66,
   "id": "b44b5a23",
   "metadata": {},
   "outputs": [],
   "source": [
    "misspelled2 = spell.unknown(corrected)\n",
    "for x in misspelled2:\n",
    "    corrected[corrected.index(x)] = spelling.suggest(x)[0][0]"
   ]
  },
  {
   "cell_type": "code",
   "execution_count": 67,
   "id": "50f9ccc6",
   "metadata": {},
   "outputs": [],
   "source": [
    "fr=[r'\\b'+x+r'\\b' for x in fr]"
   ]
  },
  {
   "cell_type": "code",
   "execution_count": 68,
   "id": "a6b64441",
   "metadata": {},
   "outputs": [],
   "source": [
    "df['Nature marchandise corr'].replace(fr,corrected,regex=True,inplace=True)"
   ]
  },
  {
   "cell_type": "code",
   "execution_count": 69,
   "id": "2b246998",
   "metadata": {},
   "outputs": [],
   "source": [
    "df['Nature marchandise corr'].replace(regex={\"âš\":\"\",\"âž\":\"'\",\"`\":\"'\",'ââ\\x80â\\x99':\"'\",'ã£â\\x96':'o','ã£â\\x89':'é','ã£â\\x8b':'é','ã£âa':'','ã£â\\x89':'m','ã£âe':'m','ã£âª':'ê','ã£â\\x8d':'i','ã£â\\x80':'à','ã£â\\x8f':'ï','ã£â\\x9b':'e','ã£â\\x88':'è','ã£â\\x9c':'u','ã£â§':'ç','\\bã£\\b':'à','Ã£Â¹':'e','ã£â\\x82':'â','ã£â\\x93':'ó','ã£â\\x8e':'i','ã£â\\x91':'in','ã£â\\x84':'e','ã£â\\x81':'a','ã¢â�â�':\"'\",'�':'e','¹':'','ã©':'é','ã¨':'è','ã¢':'â','#xd':'','\\+':' ','\\d+':'','//':'/','///':'/','\\/':' ','\\.':'','\\:':' ','\\-':' ','ã�':'é','\\;':' ','\\(':' ','\\)':'','\\,':' ','\\[':'','\\]':'','\\%':'','\\?':'','\\*':'','â°':'','ââ\\x80â\\x99':\"'\",'ââ\\x80â\\x8b':'','ã¥â\\x92':'œ','=':''},inplace=True)"
   ]
  },
  {
   "cell_type": "code",
   "execution_count": 70,
   "id": "30b90c9d",
   "metadata": {},
   "outputs": [],
   "source": [
    "df['Nature marchandise corr'].replace(r\"\\b[a-z]\\s+\",'',regex=True,inplace=True)\n",
    "df['Nature marchandise corr'].replace(r'\\b[a-z]{2}\\b','',regex=True,inplace=True)"
   ]
  },
  {
   "cell_type": "code",
   "execution_count": 71,
   "id": "8d2b0e40",
   "metadata": {},
   "outputs": [],
   "source": [
    "if len(fi.split('.'))==2:\n",
    "    df.to_csv('naturemodifie.csv',encoding='utf-8-sig')\n",
    "else:\n",
    "    print('le mot correct est: ',df['Nature marchandise corr'][0])"
   ]
  },
  {
   "cell_type": "code",
   "execution_count": 74,
   "id": "361c307d",
   "metadata": {},
   "outputs": [],
   "source": [
    "lili=sumlists(df['Nature marchandise corr'].str.split())"
   ]
  },
  {
   "cell_type": "code",
   "execution_count": 76,
   "id": "1710b752",
   "metadata": {},
   "outputs": [],
   "source": [
    "if espagnol:\n",
    "    lesp=spell.unknown(esptrad)\n",
    "    \n",
    "    misspelledesp = []\n",
    "    for x in lesp:\n",
    "        misspelledesp+=re.split(\" |\\-|\\'\",x)\n",
    "    misspelledesp=list(spell.unknown(misspelledesp))\n",
    "if eng:\n",
    "    misspelledeng=spell.unknown(engtrad)\n",
    "misspelledfr = spell.unknown(corrected)\n"
   ]
  },
  {
   "cell_type": "code",
   "execution_count": 78,
   "id": "06c30852",
   "metadata": {},
   "outputs": [
    {
     "name": "stdout",
     "output_type": "stream",
     "text": [
      "misspelled fr :  0\n",
      "misspelled esp :  0\n",
      "misspelled eng :  0\n"
     ]
    }
   ],
   "source": [
    "print('misspelled fr : ',len(misspelledfr))\n",
    "if espagnol:\n",
    "    print('misspelled esp : ',len(misspelledesp))\n",
    "else:\n",
    "    print('misspelled esp : ',0)\n",
    "if eng:\n",
    "    print('misspelled eng : ',len(misspelledeng))\n",
    "else:\n",
    "    print('misspelled eng : ',0)"
   ]
  }
 ],
 "metadata": {
  "kernelspec": {
   "display_name": "Python 3 (ipykernel)",
   "language": "python",
   "name": "python3"
  },
  "language_info": {
   "codemirror_mode": {
    "name": "ipython",
    "version": 3
   },
   "file_extension": ".py",
   "mimetype": "text/x-python",
   "name": "python",
   "nbconvert_exporter": "python",
   "pygments_lexer": "ipython3",
   "version": "3.9.7"
  }
 },
 "nbformat": 4,
 "nbformat_minor": 5
}
